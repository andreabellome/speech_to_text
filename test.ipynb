{
 "cells": [
  {
   "cell_type": "code",
   "execution_count": 2,
   "metadata": {},
   "outputs": [
    {
     "name": "stderr",
     "output_type": "stream",
     "text": [
      "c:\\Users\\andre\\Documents\\GitHub\\speech_to_text\\.venv\\lib\\site-packages\\tqdm\\auto.py:21: TqdmWarning: IProgress not found. Please update jupyter and ipywidgets. See https://ipywidgets.readthedocs.io/en/stable/user_install.html\n",
      "  from .autonotebook import tqdm as notebook_tqdm\n"
     ]
    }
   ],
   "source": [
    "import torch\n",
    "from transformers import pipeline\n",
    "from transformers.utils import is_flash_attn_2_available"
   ]
  },
  {
   "cell_type": "code",
   "execution_count": 4,
   "metadata": {},
   "outputs": [],
   "source": [
    "pipe = pipeline(\n",
    "    \"automatic-speech-recognition\",\n",
    "    model=\"openai/whisper-large-v3\", # select checkpoint from https://huggingface.co/openai/whisper-large-v3#model-details\n",
    "    torch_dtype=torch.float16,\n",
    "    device=\"cuda\", # or mps for Mac devices\n",
    "    model_kwargs={\"attn_implementation\": \"flash_attention_2\"} if is_flash_attn_2_available() else {\"attn_implementation\": \"sdpa\"},\n",
    ")\n"
   ]
  },
  {
   "cell_type": "code",
   "execution_count": 16,
   "metadata": {},
   "outputs": [
    {
     "name": "stderr",
     "output_type": "stream",
     "text": [
      "c:\\Users\\andre\\Documents\\GitHub\\speech_to_text\\.venv\\lib\\site-packages\\transformers\\models\\whisper\\generation_whisper.py:496: FutureWarning: The input name `inputs` is deprecated. Please make sure to use `input_features` instead.\n",
      "  warnings.warn(\n"
     ]
    }
   ],
   "source": [
    "outputs = pipe(\n",
    "    inputs = \"audio_files/01_sal_interno_pcm.mp3\",\n",
    "    chunk_length_s=30,\n",
    "    batch_size=24,\n",
    "    return_timestamps=True,\n",
    ")\n"
   ]
  },
  {
   "cell_type": "code",
   "execution_count": 17,
   "metadata": {},
   "outputs": [
    {
     "name": "stdout",
     "output_type": "stream",
     "text": [
      " Mixer che abbiamo fatto lato nostro per... Allora, non è questo... Claudia, prima di iniziare, giusto per... Ti presento un attimo tutti a regione, Alessandro. Ok. Ci sta Alessandro Spitellalla che un nuovo collega leonardo alessandro ma anche questa costanza anche con me è entrato l'unità noi e l'hanno inserito adesso sul progetto di cm quindi diciamo che sarà a me a suoni sul progetto di cm quindi sono ammettere il lato di acqua e acqua il corso di lavoro stiamo cercando di fare ambientare un posto per problematiche e le criticità del progetto ok oggi tanto è arrivato che dalla parte di il primo invece il palo a parte di chi ho fatto quindi al momento ancora non ha attività in carico ma dopo inizierà invece a prendere tutta la parte di gestione sia dell'Active Directory che della parte invece di Azure e invece per gli altri ci stanno Lorenzo Graziani, Andrea Bellomi, Maurizio Natalia e Alessandro Teogine che fanno invece della parte di ORIAM ed è entrato anche Alessandro Baggini che dice della parte di service manager quindi della sicurezza Posso fare subito una domanda per relativamente all'attività di Antonio Maritato che penso sia il gruppo di Claudio Ragno si è detto, gestiranno gli addi quali degli atti direttori perché abbiamo capito che ce ne sono sia quelli infrastrutturali e quelli dove sono gli utenti tutti e due quello sia quella amministrativo che quell'utente ok perfetto invece come dicevo un'attività di the operations di fatto fa quello che dovrebbe fare in teoria al gruppo di mirko broun city e il secondo livello a live team e secondo livello lato ios lo fa team e il secondo livello invece di sicurezza e di t8 lo fa leonardo per sicurezza ovviamente ci sta la parte di sicurezza nostra interna mentre per la parte invece di Azure ci sta Prisma ok quindi quindi bisogna parlano verifica stato del qm castra ks o cose del genere non c'è attività rogo di gestione di infrastruttura e ci si che adesso comunque sta tirando sul gruppo di mirko esatto ok c'è alessandro barbieri che si è collegato quindi se vogliamo fare le domande che ci servono per la parte quando faccia qualche altra domanda io è scusare passo davanti ai colleghi ma non ho partecipato a tutte le riunioni quindi ho dei dubbi e li tiro fuori subito allora per quello che riguarda la parte che mi ha mutato come indicazione la creazione di un cluster sull'infrastruttura cas quindi verso suo che ci stanno hanno fatto e di un database pass cosa che credo già siano stati creati parliamo di essere giusto no no parliamo di jazz escuta quindi è standard industria quindi vorrei capire e credo che ci sia più che il gruppo di Alessandro Baldini il gruppo di Mico che se ne occupa com'è la suddivisione in tenant che sull'industria standard si chiama tenant di questa infrastruttura in modo tale che capiamo come dobbiamo disegnare l'architettura dello IAM guarda che intendi per infrastruttura in modo tale che capiamo come dobbiamo disegnare l'architettura dello IAM. Guarda, che intendi per infrastruttura? Non è un modello multi-tenant? Cioè vorrei capire se c'è un tenant dedicato alla soluzione IAM, proprio molto semplice, e se sì, come comunica col resto del mondo. Ok, ti faccio vedere direttamente lo schema che ha fatto Giuseppe e ti bisogna dire se rispondere alle tue domande oppure no ok mi ha atteso il condiviso faccio poi l'altra domanda come in questa architettura poi si incastrano gli atti di retto di utente perché noi ci dovremmo integrare anche con quelli e soprattutto poi dovremmo fare un'analisi del loro contenuto e quando adesso mi sembra che i denti siano due e uno di sicurezza e l'altro dedicato a pc m guardano otto non hanno cambiato sto proiettando uno schermo che ti deve ottenersi tentare hanno cambiato inoltre erano due si ma due non troppo con i nostri testi e infatti il gruppo della volentina esatto allora per quello che avete abbiamo una parte il tenente gas quindi c'è un unico tenante che contiene tutti i gas fondamentalmente si da quello che scusami ma poi questi i cast sono già stati creati quindi già si sa dove stanno fondamentalmente questo non riesco a proiettare in maniera di creare e guarda non te lo so dire di verità ok non questo documento possiamo possiamo questo è sono gli schemi architetturali che abbiamo fatto ieri spero la gloria ve lo gira abbiamo uno share dove mettere i suoi commenti senza girarci tutti via mail allora io ho fatto richiesta per creare una cartella con l'indirisa ma al momento ancora non ce l'hanno creata ok quindi quando ci sarà poi ci dai tutti i riferimenti questo è il capitolo 4 del documentore a parte di collaborazione ci trovi un po di informazioni non è ovviamente secondo me completamente esaustivo provo a capire diciamo con un focus anche di alto livello per una bella connettività però è sempre in questi schemi non vedo ad esempio gli atti indiretti che invece devono essere no, quelli non ci sono quelli non ci sono quindi connettività gestita direttamente da un'externation of firewall sostenuti di sicurezza e qui c'erano gli indirizzamenti dell'OIAS però per il CAS facciamo così, noi ci prendiamo questo documento e queste mie domande che adesso ho fatte in modo generico secondo me le mettiamo per iscritto e così facciamo magari, solleviamo anche dei dubbi se mi dovesse mancare qualcosa all'interno del documento così poi nel rispondere alle domande magari si capisce se aggiungere qualche cosa del documento così poi per rispondere alle domande magari si capisce se aggiungere qualche cosa al documento oppure magari... Sì allora io ho fatto e ero rimasto indietro forse Alessandro, però da quello che ricordavo è che gli archidirettori li avrebbero messi in un teleno di back-end così parlavano, a meno che poi non eri cambiato completamente. Ma appunto che non vedendoli magari a poi non ci si è arrivati, quindi noi facciamo una serie di domande in funzione di questo poi adesso cosa possa significare perché non lo so ecco questa paura di mezz'ora per fare un punto su dove siamo a quello che c'è da fare poi per gli approfondimenti ma che organizziamo delle cose specifiche con alessandro con giuseppe con i colleghi insomma per vedere poi la dettaglio se non è che questo non è più un salda ma diventa una col di approfondimento tecnico comunque con l'autonostro noi abbiamo bisogno di dettagli per cominciare a vedere la parte di progettazione della soluzione IAM che come tutti sanno non è inclusa nel percorso critico dell'applicazione di God e quindi per questo noi stiamo tranquilli. Su questo volevo fare una domanda, ma a livello di pianificazione di massima è stata condivisa qualcosa con l'amministrazione in modo tale da capire come anche noi incastrarci all'interno di un piano più di ampio respiro che vada oltre la migrazione dell'applicazione Gold? Abbiamo un piano di collaudo di live delle applicazioni gold diciamo quello che mi avevi fatto vedere dove non c'era la parte che ci interessava e adesso ancora non c'è per il resto non c'è ancora nulla quindi quel piano che io avevo mandato Claudia dove avevo provato a ipotizzare delle date per la parte IAM quello è rimasto nostro interno non ci non è stato esposto quindi lo esporremo quando di fatto sarà finita la fase delle partizioni con spero che inizieranno a pianificare un po prima della fine perché se non paura che ci dicono tutto subito e adesso come è stato fatto adesso con sicurezza ok allora guardate noi ci portiamo avanti, noi abbiamo messo in quel piano nostro interno che a inizio agosto avremmo dato il documento di architettura e magari non ce l'avremo per inizio agosto però ci lavoriamo durante agosto e magari se riusciamo prima che poi comincia il balletto delle ferie, se riusciamo a fare questa riunione di approfondimento con Alessandro, o chi per lui, con Giuseppe, magari coinvolgiamo anche i colleghi di Prisma che comunque hanno la visibilità sullo stato della migrazione degli addi, perché quelli credo che già siano stati in parte, che poi dico migrati, ma in realtà aggiunti degli addi all'attuale dominio perché poi è questo quello che penso sia stato fatto e non di gradi attuali ma semplicemente aggiunti il nuovo main controller all'infrastruttura attuale dopo un approfondimento ragazzi di di qualità perché non è che facciamo un elenco di domande preciso così poi usiamo come base e scriviamo una riunione per trattare quei temi ma così tutti arriviamo magari già con delle risposte dove abbiamo dove non ne abbiamo vedere macchie dove abbiamo chiede di una domanda è so che ci hanno creato i gas perché sogge ha detto che l'ordine di lavoro è stato lavorato cominciamo avere un attimino i riferimenti quella sicuramente non sarete voi a rispondere o qualcun altro anche qui spero che poi il cliente non rompa le scatole che l'infrastruttura è stata creata tutta subito anche se non serviva tutta subito perché alcune componenti non la paga il cliente quindi qualcuno la paga esatto non gliene può fregare proprio diciamo che questo problema è che il cliente non se lo vorrà. Quindi l'infrastruttura inizia a pagare non appena sono state migrate le applicazioni? Esatto, un mese prima della migrazione dei servizi. Quindi se il servizio A viene migrato adesso, un mese prima di adesso inizia a pagare l'infrastruttura del servizio A, il servizio Z che verrà migrato a giugno 2025 lo inizierà a pagare l'infrastruttura di quel servizio da maggio. Fino a maggio verrà pagata, stanno decidendo da chi a livelli alti e qua io non so darvi una risposta. Ok, perfetto. La paga il gruppo I, ma la paga. non so darti una risposta ok perfetto e quindi anche tra i nostri obiettivi è chiudere il prima possibile l'attività e modellare la mentora online e iniziare a farsi pagare sia per la parte attività perché noi come gruppo INA ci abbiamo anche la parte la chiamo IT Ops anche se non sarà il tx ma sarà di supporto alla gestione d'utenze alla fine è finita la dentro quindi anche quella che abbiamo quando dovrà essere attivata no perché finché non ci stanno applicazioni in esercizio integrale con noi a un servizio un un bando va bene io le mie domande me ne sono giocate e arrestai coperto anche le mie quindi che si è già dopo le vie lo sai che quando io partecipo quindi faccio domande di più sono quelle di tutti esatto esatto per me va bene maurin che prepariamoi anche una mail con tutta una serie di domande un po più strutturate no così poi la condividiamo con alessandro che è salto quello che è e poi ci organizziamo una con tra di noi nella bolla anche l'incontro qualsiasi magari quando ci abbiamo iniziato dei temi va bene e io ve lo metto qua appunto aperto è ovvio che non stando noi sul percorso critico non vogliamo intracciare o togliere priorità ad altre attività questo sia chiaro, quindi vanno in precedenza quelle le altre va bene ragazzi, io scappo e salto in un'altra colla quella che ho bugato grazie Alessandro grazie Claudio tu stavi condividendo qualcosa ti ho interrotto non so se vuoi riprendere lo faccio vedere al volo principalmente erano punti di Alessandro ma mi aveva già detto che non sarebbe riuscito quindi già tanto che siamo riusciti a smarcare almeno questo angolo ok vedete? sì sì ok diciamo che essendo abbastanza vasto questo progetto abbiamo diviso in quattro foglie di un'ex Excel in maniera proprio abbastanza facile e con i punti in modo tale che poi noi ai fall questi qua che faremo settimanalmente cerchiamo un attimo di fare il punto della situazione dove stiamo, quali sono le attività che ci mancano e se ci stanno nuove attività che magari lato nostro ci siamo persi un attimo durante la settimana perché le mail sono tante e le attività sono veramente molte, quindi un attimo per fare il punto della situazione, se ci dovessero essere altri punti fatemi sapere le attivo vabbè quando preparo la lista di domande che devono essere fatte poi sicuramente si ascolti punti diventeranno dei punti per le domande ok era solo questo lato invece non so se Antone Marilato ci sente lato di Txox ancora non so punti se hai necessità di qualche attività qualche call verticale fammi sapere così intanto iniziamo anche su quel su quel lato Claudio stamattina ha fatto una call con Brad Claudio per capire un attimo del passaggio tra loro e noi. Se ci dovessero essere altre cose da chiarire, fammelo presente in modo tale che riusciamo a organizzare le cose per tempo, perché i tempi sono molto stretti. Sì, sì, sto parlando proprio adesso di Teams con Claudio, anche faccio sapere, in caso, grazie mille. Perfetto. Allora, mi sa che ci siamo detti tutti, perché la comunità invece, mi sa che non sono fatta anche loro a partecipare. Qualsiasi cosa, tanto io e Simone, e adesso è molto contento anche Alessandro Spitella, siamo qui e ci chiamate per qualsiasi cosa e cerchiamo di gestire eventuali criticità ok ok perfetto grazie a tutti allora grazie ciao grazie mille ciao a presto ciao\n"
     ]
    }
   ],
   "source": [
    "text_result = outputs['text']\n",
    "print(text_result)"
   ]
  }
 ],
 "metadata": {
  "kernelspec": {
   "display_name": "Python 3",
   "language": "python",
   "name": "python3"
  },
  "language_info": {
   "codemirror_mode": {
    "name": "ipython",
    "version": 3
   },
   "file_extension": ".py",
   "mimetype": "text/x-python",
   "name": "python",
   "nbconvert_exporter": "python",
   "pygments_lexer": "ipython3",
   "version": "3.10.11"
  }
 },
 "nbformat": 4,
 "nbformat_minor": 2
}
